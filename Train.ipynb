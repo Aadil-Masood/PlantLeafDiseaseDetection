{
 "metadata": {
  "language_info": {
   "codemirror_mode": {
    "name": "ipython",
    "version": 3
   },
   "file_extension": ".py",
   "mimetype": "text/x-python",
   "name": "python",
   "nbconvert_exporter": "python",
   "pygments_lexer": "ipython3",
   "version": "3.8.7-final"
  },
  "orig_nbformat": 2,
  "kernelspec": {
   "name": "python3",
   "display_name": "Python 3",
   "language": "python"
  }
 },
 "nbformat": 4,
 "nbformat_minor": 2,
 "cells": [
  {
   "source": [
    "# Plant Leaf Disease Detection\n",
    "Mayur Kr. Garg"
   ],
   "cell_type": "markdown",
   "metadata": {}
  },
  {
   "source": [
    "## Imports"
   ],
   "cell_type": "markdown",
   "metadata": {}
  },
  {
   "cell_type": "code",
   "execution_count": 1,
   "metadata": {},
   "outputs": [],
   "source": [
    "import os\n",
    "import tensorflow as tf"
   ]
  },
  {
   "cell_type": "code",
   "execution_count": 2,
   "metadata": {},
   "outputs": [
    {
     "output_type": "execute_result",
     "data": {
      "text/plain": [
       "[PhysicalDevice(name='/physical_device:GPU:0', device_type='GPU')]"
      ]
     },
     "metadata": {},
     "execution_count": 2
    }
   ],
   "source": [
    "tf.config.experimental.list_physical_devices('GPU')"
   ]
  },
  {
   "source": [
    "## Constants"
   ],
   "cell_type": "markdown",
   "metadata": {}
  },
  {
   "cell_type": "code",
   "execution_count": 3,
   "metadata": {},
   "outputs": [],
   "source": [
    "BASE_DIR = \"../../Datasets/New Plant Diseases (Augmented)\"\n",
    "TRAIN_DIR = os.path.join(BASE_DIR, \"train\")\n",
    "VAL_DIR = os.path.join(BASE_DIR, \"valid\")\n",
    "TEST_DIR = os.path.join(BASE_DIR, \"test\")"
   ]
  },
  {
   "source": [
    "## Data Loading"
   ],
   "cell_type": "markdown",
   "metadata": {}
  },
  {
   "source": [
    "### Data Distribution"
   ],
   "cell_type": "markdown",
   "metadata": {}
  },
  {
   "source": [
    "#### Train"
   ],
   "cell_type": "markdown",
   "metadata": {}
  },
  {
   "cell_type": "code",
   "execution_count": 4,
   "metadata": {},
   "outputs": [
    {
     "output_type": "stream",
     "name": "stdout",
     "text": [
      "Apple___Apple_scab                                 : 2016\nApple___Black_rot                                  : 1987\nApple___Cedar_apple_rust                           : 1760\nApple___healthy                                    : 2008\nBlueberry___healthy                                : 1816\nCherry_(including_sour)___healthy                  : 1826\nCherry_(including_sour)___Powdery_mildew           : 1683\nCorn_(maize)___Cercospora_leaf_spot Gray_leaf_spot : 1642\nCorn_(maize)___Common_rust_                        : 1907\nCorn_(maize)___healthy                             : 1859\nCorn_(maize)___Northern_Leaf_Blight                : 1908\nGrape___Black_rot                                  : 1888\nGrape___Esca_(Black_Measles)                       : 1920\nGrape___healthy                                    : 1692\nGrape___Leaf_blight_(Isariopsis_Leaf_Spot)         : 1722\nOrange___Haunglongbing_(Citrus_greening)           : 2010\nPeach___Bacterial_spot                             : 1838\nPeach___healthy                                    : 1728\nPepper,_bell___Bacterial_spot                      : 1913\nPepper,_bell___healthy                             : 1988\nPotato___Early_blight                              : 1939\nPotato___healthy                                   : 1824\nPotato___Late_blight                               : 1939\nRaspberry___healthy                                : 1781\nSoybean___healthy                                  : 2022\nSquash___Powdery_mildew                            : 1736\nStrawberry___healthy                               : 1824\nStrawberry___Leaf_scorch                           : 1774\nTomato___Bacterial_spot                            : 1702\nTomato___Early_blight                              : 1920\nTomato___healthy                                   : 1926\nTomato___Late_blight                               : 1851\nTomato___Leaf_Mold                                 : 1882\nTomato___Septoria_leaf_spot                        : 1745\nTomato___Spider_mites Two-spotted_spider_mite      : 1741\nTomato___Target_Spot                               : 1827\nTomato___Tomato_mosaic_virus                       : 1790\nTomato___Tomato_Yellow_Leaf_Curl_Virus             : 1961\n\nTotal training images: 70295\n"
     ]
    }
   ],
   "source": [
    "total_train = 0\n",
    "\n",
    "for d in os.listdir(TRAIN_DIR):\n",
    "    path = os.path.join(TRAIN_DIR, d)\n",
    "    img_count = len(os.listdir(path))\n",
    "    total_train += img_count\n",
    "    print(f'{d:50} : {img_count}')\n",
    "\n",
    "print(f'\\nTotal training images: {total_train}')"
   ]
  },
  {
   "source": [
    "#### Validation"
   ],
   "cell_type": "markdown",
   "metadata": {}
  },
  {
   "cell_type": "code",
   "execution_count": 5,
   "metadata": {},
   "outputs": [
    {
     "output_type": "stream",
     "name": "stdout",
     "text": [
      "Apple___Apple_scab                                 : 504\nApple___Black_rot                                  : 497\nApple___Cedar_apple_rust                           : 440\nApple___healthy                                    : 502\nBlueberry___healthy                                : 454\nCherry_(including_sour)___healthy                  : 456\nCherry_(including_sour)___Powdery_mildew           : 421\nCorn_(maize)___Cercospora_leaf_spot Gray_leaf_spot : 410\nCorn_(maize)___Common_rust_                        : 477\nCorn_(maize)___healthy                             : 465\nCorn_(maize)___Northern_Leaf_Blight                : 477\nGrape___Black_rot                                  : 472\nGrape___Esca_(Black_Measles)                       : 480\nGrape___healthy                                    : 423\nGrape___Leaf_blight_(Isariopsis_Leaf_Spot)         : 430\nOrange___Haunglongbing_(Citrus_greening)           : 503\nPeach___Bacterial_spot                             : 459\nPeach___healthy                                    : 432\nPepper,_bell___Bacterial_spot                      : 478\nPepper,_bell___healthy                             : 497\nPotato___Early_blight                              : 485\nPotato___healthy                                   : 456\nPotato___Late_blight                               : 485\nRaspberry___healthy                                : 445\nSoybean___healthy                                  : 505\nSquash___Powdery_mildew                            : 434\nStrawberry___healthy                               : 456\nStrawberry___Leaf_scorch                           : 444\nTomato___Bacterial_spot                            : 425\nTomato___Early_blight                              : 480\nTomato___healthy                                   : 481\nTomato___Late_blight                               : 463\nTomato___Leaf_Mold                                 : 470\nTomato___Septoria_leaf_spot                        : 436\nTomato___Spider_mites Two-spotted_spider_mite      : 435\nTomato___Target_Spot                               : 457\nTomato___Tomato_mosaic_virus                       : 448\nTomato___Tomato_Yellow_Leaf_Curl_Virus             : 490\n\nTotal validation images: 17572\n"
     ]
    }
   ],
   "source": [
    "total_val = 0\n",
    "\n",
    "for d in os.listdir(VAL_DIR):\n",
    "    path = os.path.join(VAL_DIR, d)\n",
    "    img_count = len(os.listdir(path))\n",
    "    total_val += img_count\n",
    "    print(f'{d:50} : {img_count}')\n",
    "\n",
    "print(f'\\nTotal validation images: {total_val}')"
   ]
  },
  {
   "source": [
    "#### Test"
   ],
   "cell_type": "markdown",
   "metadata": {}
  },
  {
   "cell_type": "code",
   "execution_count": 6,
   "metadata": {},
   "outputs": [
    {
     "output_type": "stream",
     "name": "stdout",
     "text": [
      "AppleCedarRust1.JPG\nAppleCedarRust2.JPG\nAppleCedarRust3.JPG\nAppleCedarRust4.JPG\nAppleScab1.JPG\nAppleScab2.JPG\nAppleScab3.JPG\nCornCommonRust1.JPG\nCornCommonRust2.JPG\nCornCommonRust3.JPG\nPotatoEarlyBlight1.JPG\nPotatoEarlyBlight2.JPG\nPotatoEarlyBlight3.JPG\nPotatoEarlyBlight4.JPG\nPotatoEarlyBlight5.JPG\nPotatoHealthy1.JPG\nPotatoHealthy2.JPG\nTomatoEarlyBlight1.JPG\nTomatoEarlyBlight2.JPG\nTomatoEarlyBlight3.JPG\nTomatoEarlyBlight4.JPG\nTomatoEarlyBlight5.JPG\nTomatoEarlyBlight6.JPG\nTomatoHealthy1.JPG\nTomatoHealthy2.JPG\nTomatoHealthy3.JPG\nTomatoHealthy4.JPG\nTomatoYellowCurlVirus1.JPG\nTomatoYellowCurlVirus2.JPG\nTomatoYellowCurlVirus3.JPG\nTomatoYellowCurlVirus4.JPG\nTomatoYellowCurlVirus5.JPG\nTomatoYellowCurlVirus6.JPG\n\nTotal testing images: 33\n"
     ]
    }
   ],
   "source": [
    "total_test = len(os.listdir(TEST_DIR))\n",
    "\n",
    "for i in os.listdir(TEST_DIR):\n",
    "    print(i)\n",
    "\n",
    "print(f'\\nTotal testing images: {total_test}')"
   ]
  },
  {
   "cell_type": "code",
   "execution_count": null,
   "metadata": {},
   "outputs": [],
   "source": []
  }
 ]
}